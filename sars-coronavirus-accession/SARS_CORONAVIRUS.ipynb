{
 "cells": [
  {
   "cell_type": "code",
   "execution_count": 1,
   "metadata": {},
   "outputs": [],
   "source": [
    "import pandas as pd\n",
    "import numpy as np\n",
    "import seaborn as sns"
   ]
  },
  {
   "cell_type": "code",
   "execution_count": 2,
   "metadata": {},
   "outputs": [
    {
     "data": {
      "text/html": [
       "<div>\n",
       "<style scoped>\n",
       "    .dataframe tbody tr th:only-of-type {\n",
       "        vertical-align: middle;\n",
       "    }\n",
       "\n",
       "    .dataframe tbody tr th {\n",
       "        vertical-align: top;\n",
       "    }\n",
       "\n",
       "    .dataframe thead th {\n",
       "        text-align: right;\n",
       "    }\n",
       "</style>\n",
       "<table border=\"1\" class=\"dataframe\">\n",
       "  <thead>\n",
       "    <tr style=\"text-align: right;\">\n",
       "      <th></th>\n",
       "      <th>Details</th>\n",
       "      <th>Accession</th>\n",
       "      <th>Release_Date</th>\n",
       "      <th>Species</th>\n",
       "      <th>Genus</th>\n",
       "      <th>Family</th>\n",
       "      <th>Length</th>\n",
       "      <th>Genotype</th>\n",
       "      <th>Genome_Region</th>\n",
       "      <th>Segment</th>\n",
       "      <th>Protein</th>\n",
       "      <th>Geo_Location</th>\n",
       "      <th>Host</th>\n",
       "      <th>Isolation_Source</th>\n",
       "      <th>Collection_Date</th>\n",
       "      <th>BioSample</th>\n",
       "      <th>GenBank_Title</th>\n",
       "    </tr>\n",
       "  </thead>\n",
       "  <tbody>\n",
       "    <tr>\n",
       "      <td>0</td>\n",
       "      <td>NaN</td>\n",
       "      <td>YP_009724389</td>\n",
       "      <td>2020-01-13T00:00:00Z</td>\n",
       "      <td>Severe acute respiratory syndrome-related coro...</td>\n",
       "      <td>Betacoronavirus</td>\n",
       "      <td>Coronaviridae</td>\n",
       "      <td>7096</td>\n",
       "      <td>NaN</td>\n",
       "      <td>NaN</td>\n",
       "      <td>NaN</td>\n",
       "      <td>orf1ab polyprotein</td>\n",
       "      <td>China</td>\n",
       "      <td>Homo sapiens</td>\n",
       "      <td>NaN</td>\n",
       "      <td>2019-12</td>\n",
       "      <td>NaN</td>\n",
       "      <td>orf1ab polyprotein [Wuhan seafood market pneum...</td>\n",
       "    </tr>\n",
       "    <tr>\n",
       "      <td>1</td>\n",
       "      <td>NaN</td>\n",
       "      <td>YP_009725255</td>\n",
       "      <td>2020-01-17T00:00:00Z</td>\n",
       "      <td>Severe acute respiratory syndrome-related coro...</td>\n",
       "      <td>Betacoronavirus</td>\n",
       "      <td>Coronaviridae</td>\n",
       "      <td>38</td>\n",
       "      <td>NaN</td>\n",
       "      <td>NaN</td>\n",
       "      <td>NaN</td>\n",
       "      <td>ORF10 protein</td>\n",
       "      <td>China</td>\n",
       "      <td>Homo sapiens</td>\n",
       "      <td>NaN</td>\n",
       "      <td>2019-12</td>\n",
       "      <td>NaN</td>\n",
       "      <td>ORF10 protein [Wuhan seafood market pneumonia ...</td>\n",
       "    </tr>\n",
       "    <tr>\n",
       "      <td>2</td>\n",
       "      <td>NaN</td>\n",
       "      <td>YP_009725295</td>\n",
       "      <td>2020-01-28T00:00:00Z</td>\n",
       "      <td>Severe acute respiratory syndrome-related coro...</td>\n",
       "      <td>Betacoronavirus</td>\n",
       "      <td>Coronaviridae</td>\n",
       "      <td>4405</td>\n",
       "      <td>NaN</td>\n",
       "      <td>NaN</td>\n",
       "      <td>NaN</td>\n",
       "      <td>orf1a polyprotein</td>\n",
       "      <td>China</td>\n",
       "      <td>Homo sapiens</td>\n",
       "      <td>NaN</td>\n",
       "      <td>2019-12</td>\n",
       "      <td>NaN</td>\n",
       "      <td>orf1a polyprotein [Wuhan seafood market pneumo...</td>\n",
       "    </tr>\n",
       "    <tr>\n",
       "      <td>3</td>\n",
       "      <td>NaN</td>\n",
       "      <td>YP_009725296</td>\n",
       "      <td>2020-01-28T00:00:00Z</td>\n",
       "      <td>Severe acute respiratory syndrome-related coro...</td>\n",
       "      <td>Betacoronavirus</td>\n",
       "      <td>Coronaviridae</td>\n",
       "      <td>43</td>\n",
       "      <td>NaN</td>\n",
       "      <td>NaN</td>\n",
       "      <td>NaN</td>\n",
       "      <td>ORF7b</td>\n",
       "      <td>China</td>\n",
       "      <td>Homo sapiens</td>\n",
       "      <td>NaN</td>\n",
       "      <td>2019-12</td>\n",
       "      <td>NaN</td>\n",
       "      <td>ORF7b [Wuhan seafood market pneumonia virus]</td>\n",
       "    </tr>\n",
       "    <tr>\n",
       "      <td>4</td>\n",
       "      <td>NaN</td>\n",
       "      <td>YP_009724390</td>\n",
       "      <td>2020-01-13T00:00:00Z</td>\n",
       "      <td>Severe acute respiratory syndrome-related coro...</td>\n",
       "      <td>Betacoronavirus</td>\n",
       "      <td>Coronaviridae</td>\n",
       "      <td>1273</td>\n",
       "      <td>NaN</td>\n",
       "      <td>NaN</td>\n",
       "      <td>NaN</td>\n",
       "      <td>surface glycoprotein</td>\n",
       "      <td>China</td>\n",
       "      <td>Homo sapiens</td>\n",
       "      <td>NaN</td>\n",
       "      <td>2019-12</td>\n",
       "      <td>NaN</td>\n",
       "      <td>surface glycoprotein [Wuhan seafood market pne...</td>\n",
       "    </tr>\n",
       "  </tbody>\n",
       "</table>\n",
       "</div>"
      ],
      "text/plain": [
       "   Details     Accession          Release_Date  \\\n",
       "0      NaN  YP_009724389  2020-01-13T00:00:00Z   \n",
       "1      NaN  YP_009725255  2020-01-17T00:00:00Z   \n",
       "2      NaN  YP_009725295  2020-01-28T00:00:00Z   \n",
       "3      NaN  YP_009725296  2020-01-28T00:00:00Z   \n",
       "4      NaN  YP_009724390  2020-01-13T00:00:00Z   \n",
       "\n",
       "                                             Species            Genus  \\\n",
       "0  Severe acute respiratory syndrome-related coro...  Betacoronavirus   \n",
       "1  Severe acute respiratory syndrome-related coro...  Betacoronavirus   \n",
       "2  Severe acute respiratory syndrome-related coro...  Betacoronavirus   \n",
       "3  Severe acute respiratory syndrome-related coro...  Betacoronavirus   \n",
       "4  Severe acute respiratory syndrome-related coro...  Betacoronavirus   \n",
       "\n",
       "          Family  Length  Genotype  Genome_Region  Segment  \\\n",
       "0  Coronaviridae    7096       NaN            NaN      NaN   \n",
       "1  Coronaviridae      38       NaN            NaN      NaN   \n",
       "2  Coronaviridae    4405       NaN            NaN      NaN   \n",
       "3  Coronaviridae      43       NaN            NaN      NaN   \n",
       "4  Coronaviridae    1273       NaN            NaN      NaN   \n",
       "\n",
       "                Protein Geo_Location          Host Isolation_Source  \\\n",
       "0    orf1ab polyprotein        China  Homo sapiens              NaN   \n",
       "1         ORF10 protein        China  Homo sapiens              NaN   \n",
       "2     orf1a polyprotein        China  Homo sapiens              NaN   \n",
       "3                 ORF7b        China  Homo sapiens              NaN   \n",
       "4  surface glycoprotein        China  Homo sapiens              NaN   \n",
       "\n",
       "  Collection_Date  BioSample  \\\n",
       "0         2019-12        NaN   \n",
       "1         2019-12        NaN   \n",
       "2         2019-12        NaN   \n",
       "3         2019-12        NaN   \n",
       "4         2019-12        NaN   \n",
       "\n",
       "                                       GenBank_Title  \n",
       "0  orf1ab polyprotein [Wuhan seafood market pneum...  \n",
       "1  ORF10 protein [Wuhan seafood market pneumonia ...  \n",
       "2  orf1a polyprotein [Wuhan seafood market pneumo...  \n",
       "3       ORF7b [Wuhan seafood market pneumonia virus]  \n",
       "4  surface glycoprotein [Wuhan seafood market pne...  "
      ]
     },
     "execution_count": 2,
     "metadata": {},
     "output_type": "execute_result"
    }
   ],
   "source": [
    "df = pd.read_csv(\"SARS_CORONAVIRUS_287BP_MN975263.1_accession.csv\")\n",
    "df.head()"
   ]
  },
  {
   "cell_type": "code",
   "execution_count": 17,
   "metadata": {},
   "outputs": [
    {
     "data": {
      "text/plain": [
       "Accession             0\n",
       "Release_Date          0\n",
       "Species               0\n",
       "Genus                 0\n",
       "Family                0\n",
       "Length                0\n",
       "Protein               0\n",
       "Geo_Location          0\n",
       "Host                  0\n",
       "Isolation_Source    154\n",
       "Collection_Date       0\n",
       "GenBank_Title         0\n",
       "dtype: int64"
      ]
     },
     "execution_count": 17,
     "metadata": {},
     "output_type": "execute_result"
    }
   ],
   "source": [
    "df.isnull().sum()"
   ]
  },
  {
   "cell_type": "code",
   "execution_count": 7,
   "metadata": {},
   "outputs": [],
   "source": [
    "df = df.drop(['Details','Genotype','Genome_Region','Segment','BioSample'],axis=1)"
   ]
  },
  {
   "cell_type": "code",
   "execution_count": 18,
   "metadata": {},
   "outputs": [
    {
     "data": {
      "text/html": [
       "<div>\n",
       "<style scoped>\n",
       "    .dataframe tbody tr th:only-of-type {\n",
       "        vertical-align: middle;\n",
       "    }\n",
       "\n",
       "    .dataframe tbody tr th {\n",
       "        vertical-align: top;\n",
       "    }\n",
       "\n",
       "    .dataframe thead th {\n",
       "        text-align: right;\n",
       "    }\n",
       "</style>\n",
       "<table border=\"1\" class=\"dataframe\">\n",
       "  <thead>\n",
       "    <tr style=\"text-align: right;\">\n",
       "      <th></th>\n",
       "      <th>Accession</th>\n",
       "      <th>Release_Date</th>\n",
       "      <th>Species</th>\n",
       "      <th>Genus</th>\n",
       "      <th>Family</th>\n",
       "      <th>Length</th>\n",
       "      <th>Protein</th>\n",
       "      <th>Geo_Location</th>\n",
       "      <th>Host</th>\n",
       "      <th>Isolation_Source</th>\n",
       "      <th>Collection_Date</th>\n",
       "      <th>GenBank_Title</th>\n",
       "    </tr>\n",
       "  </thead>\n",
       "  <tbody>\n",
       "    <tr>\n",
       "      <td>0</td>\n",
       "      <td>YP_009724389</td>\n",
       "      <td>2020-01-13T00:00:00Z</td>\n",
       "      <td>Severe acute respiratory syndrome-related coro...</td>\n",
       "      <td>Betacoronavirus</td>\n",
       "      <td>Coronaviridae</td>\n",
       "      <td>7096</td>\n",
       "      <td>orf1ab polyprotein</td>\n",
       "      <td>China</td>\n",
       "      <td>Homo sapiens</td>\n",
       "      <td>NaN</td>\n",
       "      <td>2019-12</td>\n",
       "      <td>orf1ab polyprotein [Wuhan seafood market pneum...</td>\n",
       "    </tr>\n",
       "    <tr>\n",
       "      <td>1</td>\n",
       "      <td>YP_009725255</td>\n",
       "      <td>2020-01-17T00:00:00Z</td>\n",
       "      <td>Severe acute respiratory syndrome-related coro...</td>\n",
       "      <td>Betacoronavirus</td>\n",
       "      <td>Coronaviridae</td>\n",
       "      <td>38</td>\n",
       "      <td>ORF10 protein</td>\n",
       "      <td>China</td>\n",
       "      <td>Homo sapiens</td>\n",
       "      <td>NaN</td>\n",
       "      <td>2019-12</td>\n",
       "      <td>ORF10 protein [Wuhan seafood market pneumonia ...</td>\n",
       "    </tr>\n",
       "    <tr>\n",
       "      <td>2</td>\n",
       "      <td>YP_009725295</td>\n",
       "      <td>2020-01-28T00:00:00Z</td>\n",
       "      <td>Severe acute respiratory syndrome-related coro...</td>\n",
       "      <td>Betacoronavirus</td>\n",
       "      <td>Coronaviridae</td>\n",
       "      <td>4405</td>\n",
       "      <td>orf1a polyprotein</td>\n",
       "      <td>China</td>\n",
       "      <td>Homo sapiens</td>\n",
       "      <td>NaN</td>\n",
       "      <td>2019-12</td>\n",
       "      <td>orf1a polyprotein [Wuhan seafood market pneumo...</td>\n",
       "    </tr>\n",
       "    <tr>\n",
       "      <td>3</td>\n",
       "      <td>YP_009725296</td>\n",
       "      <td>2020-01-28T00:00:00Z</td>\n",
       "      <td>Severe acute respiratory syndrome-related coro...</td>\n",
       "      <td>Betacoronavirus</td>\n",
       "      <td>Coronaviridae</td>\n",
       "      <td>43</td>\n",
       "      <td>ORF7b</td>\n",
       "      <td>China</td>\n",
       "      <td>Homo sapiens</td>\n",
       "      <td>NaN</td>\n",
       "      <td>2019-12</td>\n",
       "      <td>ORF7b [Wuhan seafood market pneumonia virus]</td>\n",
       "    </tr>\n",
       "    <tr>\n",
       "      <td>4</td>\n",
       "      <td>YP_009724390</td>\n",
       "      <td>2020-01-13T00:00:00Z</td>\n",
       "      <td>Severe acute respiratory syndrome-related coro...</td>\n",
       "      <td>Betacoronavirus</td>\n",
       "      <td>Coronaviridae</td>\n",
       "      <td>1273</td>\n",
       "      <td>surface glycoprotein</td>\n",
       "      <td>China</td>\n",
       "      <td>Homo sapiens</td>\n",
       "      <td>NaN</td>\n",
       "      <td>2019-12</td>\n",
       "      <td>surface glycoprotein [Wuhan seafood market pne...</td>\n",
       "    </tr>\n",
       "  </tbody>\n",
       "</table>\n",
       "</div>"
      ],
      "text/plain": [
       "      Accession          Release_Date  \\\n",
       "0  YP_009724389  2020-01-13T00:00:00Z   \n",
       "1  YP_009725255  2020-01-17T00:00:00Z   \n",
       "2  YP_009725295  2020-01-28T00:00:00Z   \n",
       "3  YP_009725296  2020-01-28T00:00:00Z   \n",
       "4  YP_009724390  2020-01-13T00:00:00Z   \n",
       "\n",
       "                                             Species            Genus  \\\n",
       "0  Severe acute respiratory syndrome-related coro...  Betacoronavirus   \n",
       "1  Severe acute respiratory syndrome-related coro...  Betacoronavirus   \n",
       "2  Severe acute respiratory syndrome-related coro...  Betacoronavirus   \n",
       "3  Severe acute respiratory syndrome-related coro...  Betacoronavirus   \n",
       "4  Severe acute respiratory syndrome-related coro...  Betacoronavirus   \n",
       "\n",
       "          Family  Length               Protein Geo_Location          Host  \\\n",
       "0  Coronaviridae    7096    orf1ab polyprotein        China  Homo sapiens   \n",
       "1  Coronaviridae      38         ORF10 protein        China  Homo sapiens   \n",
       "2  Coronaviridae    4405     orf1a polyprotein        China  Homo sapiens   \n",
       "3  Coronaviridae      43                 ORF7b        China  Homo sapiens   \n",
       "4  Coronaviridae    1273  surface glycoprotein        China  Homo sapiens   \n",
       "\n",
       "  Isolation_Source Collection_Date  \\\n",
       "0              NaN         2019-12   \n",
       "1              NaN         2019-12   \n",
       "2              NaN         2019-12   \n",
       "3              NaN         2019-12   \n",
       "4              NaN         2019-12   \n",
       "\n",
       "                                       GenBank_Title  \n",
       "0  orf1ab polyprotein [Wuhan seafood market pneum...  \n",
       "1  ORF10 protein [Wuhan seafood market pneumonia ...  \n",
       "2  orf1a polyprotein [Wuhan seafood market pneumo...  \n",
       "3       ORF7b [Wuhan seafood market pneumonia virus]  \n",
       "4  surface glycoprotein [Wuhan seafood market pne...  "
      ]
     },
     "execution_count": 18,
     "metadata": {},
     "output_type": "execute_result"
    }
   ],
   "source": [
    "df.head()"
   ]
  },
  {
   "cell_type": "code",
   "execution_count": 30,
   "metadata": {},
   "outputs": [],
   "source": [
    "df['Release_Date'] = pd.to_datetime(df['Release_Date'])\n",
    "df['Release_DateYear'] = df['Release_Date'].dt.year\n",
    "df['Release_DateMonth'] = df['Release_Date'].dt.month\n",
    "\n",
    "df['Collection_Date'] = pd.to_datetime(df['Collection_Date'])\n",
    "df['Collection_Year'] = df['Collection_Date'].dt.year\n",
    "df['Collection_Month'] =df['Collection_Date'].dt.month\n",
    "\n"
   ]
  },
  {
   "cell_type": "code",
   "execution_count": 31,
   "metadata": {},
   "outputs": [
    {
     "data": {
      "text/html": [
       "<div>\n",
       "<style scoped>\n",
       "    .dataframe tbody tr th:only-of-type {\n",
       "        vertical-align: middle;\n",
       "    }\n",
       "\n",
       "    .dataframe tbody tr th {\n",
       "        vertical-align: top;\n",
       "    }\n",
       "\n",
       "    .dataframe thead th {\n",
       "        text-align: right;\n",
       "    }\n",
       "</style>\n",
       "<table border=\"1\" class=\"dataframe\">\n",
       "  <thead>\n",
       "    <tr style=\"text-align: right;\">\n",
       "      <th></th>\n",
       "      <th>Accession</th>\n",
       "      <th>Release_Date</th>\n",
       "      <th>Species</th>\n",
       "      <th>Genus</th>\n",
       "      <th>Family</th>\n",
       "      <th>Length</th>\n",
       "      <th>Protein</th>\n",
       "      <th>Geo_Location</th>\n",
       "      <th>Host</th>\n",
       "      <th>Isolation_Source</th>\n",
       "      <th>Collection_Date</th>\n",
       "      <th>GenBank_Title</th>\n",
       "      <th>Release_DateYear</th>\n",
       "      <th>Release_DateMonth</th>\n",
       "      <th>Collection_Year</th>\n",
       "      <th>Collection_Month</th>\n",
       "    </tr>\n",
       "  </thead>\n",
       "  <tbody>\n",
       "    <tr>\n",
       "      <td>0</td>\n",
       "      <td>YP_009724389</td>\n",
       "      <td>2020-01-13 00:00:00+00:00</td>\n",
       "      <td>Severe acute respiratory syndrome-related coro...</td>\n",
       "      <td>Betacoronavirus</td>\n",
       "      <td>Coronaviridae</td>\n",
       "      <td>7096</td>\n",
       "      <td>orf1ab polyprotein</td>\n",
       "      <td>China</td>\n",
       "      <td>Homo sapiens</td>\n",
       "      <td>NaN</td>\n",
       "      <td>2019-12-01</td>\n",
       "      <td>orf1ab polyprotein [Wuhan seafood market pneum...</td>\n",
       "      <td>2020</td>\n",
       "      <td>1</td>\n",
       "      <td>2019</td>\n",
       "      <td>12</td>\n",
       "    </tr>\n",
       "    <tr>\n",
       "      <td>1</td>\n",
       "      <td>YP_009725255</td>\n",
       "      <td>2020-01-17 00:00:00+00:00</td>\n",
       "      <td>Severe acute respiratory syndrome-related coro...</td>\n",
       "      <td>Betacoronavirus</td>\n",
       "      <td>Coronaviridae</td>\n",
       "      <td>38</td>\n",
       "      <td>ORF10 protein</td>\n",
       "      <td>China</td>\n",
       "      <td>Homo sapiens</td>\n",
       "      <td>NaN</td>\n",
       "      <td>2019-12-01</td>\n",
       "      <td>ORF10 protein [Wuhan seafood market pneumonia ...</td>\n",
       "      <td>2020</td>\n",
       "      <td>1</td>\n",
       "      <td>2019</td>\n",
       "      <td>12</td>\n",
       "    </tr>\n",
       "    <tr>\n",
       "      <td>2</td>\n",
       "      <td>YP_009725295</td>\n",
       "      <td>2020-01-28 00:00:00+00:00</td>\n",
       "      <td>Severe acute respiratory syndrome-related coro...</td>\n",
       "      <td>Betacoronavirus</td>\n",
       "      <td>Coronaviridae</td>\n",
       "      <td>4405</td>\n",
       "      <td>orf1a polyprotein</td>\n",
       "      <td>China</td>\n",
       "      <td>Homo sapiens</td>\n",
       "      <td>NaN</td>\n",
       "      <td>2019-12-01</td>\n",
       "      <td>orf1a polyprotein [Wuhan seafood market pneumo...</td>\n",
       "      <td>2020</td>\n",
       "      <td>1</td>\n",
       "      <td>2019</td>\n",
       "      <td>12</td>\n",
       "    </tr>\n",
       "    <tr>\n",
       "      <td>3</td>\n",
       "      <td>YP_009725296</td>\n",
       "      <td>2020-01-28 00:00:00+00:00</td>\n",
       "      <td>Severe acute respiratory syndrome-related coro...</td>\n",
       "      <td>Betacoronavirus</td>\n",
       "      <td>Coronaviridae</td>\n",
       "      <td>43</td>\n",
       "      <td>ORF7b</td>\n",
       "      <td>China</td>\n",
       "      <td>Homo sapiens</td>\n",
       "      <td>NaN</td>\n",
       "      <td>2019-12-01</td>\n",
       "      <td>ORF7b [Wuhan seafood market pneumonia virus]</td>\n",
       "      <td>2020</td>\n",
       "      <td>1</td>\n",
       "      <td>2019</td>\n",
       "      <td>12</td>\n",
       "    </tr>\n",
       "    <tr>\n",
       "      <td>4</td>\n",
       "      <td>YP_009724390</td>\n",
       "      <td>2020-01-13 00:00:00+00:00</td>\n",
       "      <td>Severe acute respiratory syndrome-related coro...</td>\n",
       "      <td>Betacoronavirus</td>\n",
       "      <td>Coronaviridae</td>\n",
       "      <td>1273</td>\n",
       "      <td>surface glycoprotein</td>\n",
       "      <td>China</td>\n",
       "      <td>Homo sapiens</td>\n",
       "      <td>NaN</td>\n",
       "      <td>2019-12-01</td>\n",
       "      <td>surface glycoprotein [Wuhan seafood market pne...</td>\n",
       "      <td>2020</td>\n",
       "      <td>1</td>\n",
       "      <td>2019</td>\n",
       "      <td>12</td>\n",
       "    </tr>\n",
       "  </tbody>\n",
       "</table>\n",
       "</div>"
      ],
      "text/plain": [
       "      Accession              Release_Date  \\\n",
       "0  YP_009724389 2020-01-13 00:00:00+00:00   \n",
       "1  YP_009725255 2020-01-17 00:00:00+00:00   \n",
       "2  YP_009725295 2020-01-28 00:00:00+00:00   \n",
       "3  YP_009725296 2020-01-28 00:00:00+00:00   \n",
       "4  YP_009724390 2020-01-13 00:00:00+00:00   \n",
       "\n",
       "                                             Species            Genus  \\\n",
       "0  Severe acute respiratory syndrome-related coro...  Betacoronavirus   \n",
       "1  Severe acute respiratory syndrome-related coro...  Betacoronavirus   \n",
       "2  Severe acute respiratory syndrome-related coro...  Betacoronavirus   \n",
       "3  Severe acute respiratory syndrome-related coro...  Betacoronavirus   \n",
       "4  Severe acute respiratory syndrome-related coro...  Betacoronavirus   \n",
       "\n",
       "          Family  Length               Protein Geo_Location          Host  \\\n",
       "0  Coronaviridae    7096    orf1ab polyprotein        China  Homo sapiens   \n",
       "1  Coronaviridae      38         ORF10 protein        China  Homo sapiens   \n",
       "2  Coronaviridae    4405     orf1a polyprotein        China  Homo sapiens   \n",
       "3  Coronaviridae      43                 ORF7b        China  Homo sapiens   \n",
       "4  Coronaviridae    1273  surface glycoprotein        China  Homo sapiens   \n",
       "\n",
       "  Isolation_Source Collection_Date  \\\n",
       "0              NaN      2019-12-01   \n",
       "1              NaN      2019-12-01   \n",
       "2              NaN      2019-12-01   \n",
       "3              NaN      2019-12-01   \n",
       "4              NaN      2019-12-01   \n",
       "\n",
       "                                       GenBank_Title  Release_DateYear  \\\n",
       "0  orf1ab polyprotein [Wuhan seafood market pneum...              2020   \n",
       "1  ORF10 protein [Wuhan seafood market pneumonia ...              2020   \n",
       "2  orf1a polyprotein [Wuhan seafood market pneumo...              2020   \n",
       "3       ORF7b [Wuhan seafood market pneumonia virus]              2020   \n",
       "4  surface glycoprotein [Wuhan seafood market pne...              2020   \n",
       "\n",
       "   Release_DateMonth  Collection_Year  Collection_Month  \n",
       "0                  1             2019                12  \n",
       "1                  1             2019                12  \n",
       "2                  1             2019                12  \n",
       "3                  1             2019                12  \n",
       "4                  1             2019                12  "
      ]
     },
     "execution_count": 31,
     "metadata": {},
     "output_type": "execute_result"
    }
   ],
   "source": [
    "df.head()"
   ]
  },
  {
   "cell_type": "code",
   "execution_count": 33,
   "metadata": {},
   "outputs": [
    {
     "data": {
      "text/plain": [
       "<matplotlib.axes._subplots.AxesSubplot at 0x196277479c8>"
      ]
     },
     "execution_count": 33,
     "metadata": {},
     "output_type": "execute_result"
    },
    {
     "data": {
      "image/png": "[encoded data removed]",
      "text/plain": [
       "<Figure size 432x288 with 1 Axes>"
      ]
     },
     "metadata": {
      "needs_background": "light"
     },
     "output_type": "display_data"
    }
   ],
   "source": [
    "sns.countplot(df['Family'])\n",
    "#All are from Coronavirideas Family"
   ]
  },
  {
   "cell_type": "code",
   "execution_count": 35,
   "metadata": {},
   "outputs": [
    {
     "data": {
      "text/plain": [
       "<matplotlib.axes._subplots.AxesSubplot at 0x19628fcf248>"
      ]
     },
     "execution_count": 35,
     "metadata": {},
     "output_type": "execute_result"
    },
    {
     "data": {
      "image/png": "[encoded data removed]",
      "text/plain": [
       "<Figure size 432x288 with 1 Axes>"
      ]
     },
     "metadata": {
      "needs_background": "light"
     },
     "output_type": "display_data"
    }
   ],
   "source": [
    "sns.countplot(df['Genus'])"
   ]
  },
  {
   "cell_type": "code",
   "execution_count": 46,
   "metadata": {},
   "outputs": [
    {
     "data": {
      "text/plain": [
       "[Text(0, 0, 'orf1ab polyprotein [Severe acute respiratory syndrome coronavirus 2]'),\n",
       " Text(0, 0, 'envelope protein [Severe acute respiratory syndrome coronavirus 2]'),\n",
       " Text(0, 0, 'surface glycoprotein [Severe acute respiratory syndrome coronavirus 2]'),\n",
       " Text(0, 0, 'membrane glycoprotein [Severe acute respiratory syndrome coronavirus 2]'),\n",
       " Text(0, 0, 'nucleocapsid phosphoprotein [Severe acute respiratory syndrome coronavirus 2]'),\n",
       " Text(0, 0, 'ORF6 protein [Severe acute respiratory syndrome coronavirus 2]'),\n",
       " Text(0, 0, 'ORF8 protein [Severe acute respiratory syndrome coronavirus 2]')]"
      ]
     },
     "execution_count": 46,
     "metadata": {},
     "output_type": "execute_result"
    },
    {
     "data": {
      "image/png": "[encoded data removed]",
      "text/plain": [
       "<Figure size 432x288 with 1 Axes>"
      ]
     },
     "metadata": {
      "needs_background": "light"
     },
     "output_type": "display_data"
    }
   ],
   "source": [
    "top_10 = df['GenBank_Title'].value_counts().index[:10]\n",
    "sns.countplot(df['GenBank_Title'].value_counts().values[:10]).set_xticklabels(top_10,rotation=\"90\")"
   ]
  },
  {
   "cell_type": "code",
   "execution_count": 59,
   "metadata": {},
   "outputs": [
    {
     "data": {
      "text/plain": [
       "[Text(0, 0, 'orf1ab polyprotein'),\n",
       " Text(0, 0, 'surface glycoprotein'),\n",
       " Text(0, 0, 'envelope protein'),\n",
       " Text(0, 0, 'nucleocapsid phosphoprotein'),\n",
       " Text(0, 0, 'membrane glycoprotein'),\n",
       " Text(0, 0, 'ORF6 protein'),\n",
       " Text(0, 0, 'ORF8 protein'),\n",
       " Text(0, 0, 'ORF3a protein')]"
      ]
     },
     "execution_count": 59,
     "metadata": {},
     "output_type": "execute_result"
    },
    {
     "data": {
      "image/png": "[encoded data removed]",
      "text/plain": [
       "<Figure size 432x288 with 1 Axes>"
      ]
     },
     "metadata": {
      "needs_background": "light"
     },
     "output_type": "display_data"
    }
   ],
   "source": [
    "top_10Protien = df['Protein'].value_counts()[:10]\n",
    "sns.countplot(top_10Protien.values).set_xticklabels(top_10Protien.index,rotation=\"90\")"
   ]
  },
  {
   "cell_type": "code",
   "execution_count": 90,
   "metadata": {},
   "outputs": [
    {
     "data": {
      "text/plain": [
       "[Text(0, 0, '1'),\n",
       " Text(0, 0, '30'),\n",
       " Text(0, 0, '29'),\n",
       " Text(0, 0, '1'),\n",
       " Text(0, 0, '25'),\n",
       " Text(0, 0, '22'),\n",
       " Text(0, 0, '31'),\n",
       " Text(0, 0, '17'),\n",
       " Text(0, 0, '23'),\n",
       " Text(0, 0, '28'),\n",
       " Text(0, 0, '27'),\n",
       " Text(0, 0, '5'),\n",
       " Text(0, 0, '19')]"
      ]
     },
     "execution_count": 90,
     "metadata": {},
     "output_type": "execute_result"
    },
    {
     "data": {
      "image/png": "[encoded data removed]",
      "text/plain": [
       "<Figure size 432x288 with 1 Axes>"
      ]
     },
     "metadata": {
      "needs_background": "light"
     },
     "output_type": "display_data"
    }
   ],
   "source": [
    "top_10CollectionDates = df['Collection_Date'].value_counts()\n",
    "top_10Dates = pd.to_datetime(top_10CollectionDates.index)\n",
    "sns.countplot(top_10CollectionDates.values).set_xticklabels(top_10Dates.day,rotation=\"90\")"
   ]
  },
  {
   "cell_type": "code",
   "execution_count": null,
   "metadata": {},
   "outputs": [],
   "source": []
  },
  {
   "cell_type": "code",
   "execution_count": null,
   "metadata": {},
   "outputs": [],
   "source": []
  }
 ],
 "metadata": {
  "kernelspec": {
   "display_name": "Python 3",
   "language": "python",
   "name": "python3"
  },
  "language_info": {
   "codemirror_mode": {
    "name": "ipython",
    "version": 3
   },
   "file_extension": ".py",
   "mimetype": "text/x-python",
   "name": "python",
   "nbconvert_exporter": "python",
   "pygments_lexer": "ipython3",
   "version": "3.7.4"
  }
 },
 "nbformat": 4,
 "nbformat_minor": 2
}
