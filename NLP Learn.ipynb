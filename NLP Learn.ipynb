{
 "cells": [
  {
   "cell_type": "code",
   "execution_count": 8,
   "metadata": {},
   "outputs": [],
   "source": [
    "import nltk"
   ]
  },
  {
   "cell_type": "code",
   "execution_count": 10,
   "metadata": {},
   "outputs": [],
   "source": [
    "text = \"\"\"\n",
    "With clarity and definition is associated a certain physical spareness. Most of the great deciduous trees of England give one the impression, at any rate in summer, of being rather obese. In Scandinavian mythology Embla, the elm, was the first woman. Those who have lived much with old elm trees—and I spent a good part of my boyhood under their ponderous shade—will agree that the Scandinavians were men of insight. There is in effect something blowsily female about those vast trees that brood with all their bulging masses of foliage above the meadows of the home counties. In winter they are giant skeletons; and for a moment in the early spring a cloud of transparent emerald vapor floats in the air; but by June they have settled down to an enormous middle age.\n",
    "The question how knowledge should be defined is perhaps the most important and difficult of the three with which we shall deal. This may seem surprising: at first sight it might be thought that knowledge might be defined as belief which is in agreement with the facts. The trouble is that no one knows what a belief is, no one knows what a fact is, and no one knows what sort of agreement between them would make a belief true. Let us begin with belief.\n",
    "The inflated style itself is a kind of euphemism. A mass of Latin words falls upon the facts like soft snow, blurring the outline and covering up all the details. The great enemy of clear language is insincerity. When there is a gap between one’s real and one’s declared aims, one turns as it were instinctively to long words and exhausted idioms, like a cuttlefish spurting out ink. In our age there is no such thing as ‘keeping out of politics.’ All issues are political issues, and politics itself is a mass of lies, evasions, folly, hatred, and schizophrenia. When the general atmosphere is bad, language must suffer. I should expect to find — this is a guess which I have not sufficient knowledge to verify — that the German, Russian and Italian languages have all deteriorated in the last ten or fifteen years, as a result of dictatorship.\n",
    "\"\"\""
   ]
  },
  {
   "cell_type": "code",
   "execution_count": 16,
   "metadata": {},
   "outputs": [
    {
     "name": "stdout",
     "output_type": "stream",
     "text": [
      "['\\nWith clarity and definition is associated a certain physical spareness.', 'Most of the great deciduous trees of England give one the impression, at any rate in summer, of being rather obese.', 'In Scandinavian mythology Embla, the elm, was the first woman.', 'Those who have lived much with old elm trees—and I spent a good part of my boyhood under their ponderous shade—will agree that the Scandinavians were men of insight.', 'There is in effect something blowsily female about those vast trees that brood with all their bulging masses of foliage above the meadows of the home counties.', 'In winter they are giant skeletons; and for a moment in the early spring a cloud of transparent emerald vapor floats in the air; but by June they have settled down to an enormous middle age.', 'The question how knowledge should be defined is perhaps the most important and difficult of the three with which we shall deal.', 'This may seem surprising: at first sight it might be thought that knowledge might be defined as belief which is in agreement with the facts.', 'The trouble is that no one knows what a belief is, no one knows what a fact is, and no one knows what sort of agreement between them would make a belief true.', 'Let us begin with belief.', 'The inflated style itself is a kind of euphemism.', 'A mass of Latin words falls upon the facts like soft snow, blurring the outline and covering up all the details.', 'The great enemy of clear language is insincerity.', 'When there is a gap between one’s real and one’s declared aims, one turns as it were instinctively to long words and exhausted idioms, like a cuttlefish spurting out ink.', 'In our age there is no such thing as ‘keeping out of politics.’ All issues are political issues, and politics itself is a mass of lies, evasions, folly, hatred, and schizophrenia.', 'When the general atmosphere is bad, language must suffer.', 'I should expect to find — this is a guess which I have not sufficient knowledge to verify — that the German, Russian and Italian languages have all deteriorated in the last ten or fifteen years, as a result of dictatorship.']\n"
     ]
    }
   ],
   "source": [
    "from nltk.tokenize import sent_tokenize,word_tokenize\n",
    "tokenize_text = sent_tokenize(text)\n",
    "print(tokenize_text)"
   ]
  },
  {
   "cell_type": "code",
   "execution_count": 36,
   "metadata": {},
   "outputs": [
    {
     "name": "stdout",
     "output_type": "stream",
     "text": [
      "['With', 'clarity', 'and', 'definition', 'is', 'associated', 'a', 'certain', 'physical', 'spareness', '.', 'Most', 'of', 'the', 'great', 'deciduous', 'trees', 'of', 'England', 'give', 'one', 'the', 'impression', ',', 'at', 'any', 'rate', 'in', 'summer', ',', 'of', 'being', 'rather', 'obese', '.', 'In', 'Scandinavian', 'mythology', 'Embla', ',', 'the', 'elm', ',', 'was', 'the', 'first', 'woman', '.', 'Those', 'who', 'have', 'lived', 'much', 'with', 'old', 'elm', 'trees—and', 'I', 'spent', 'a', 'good', 'part', 'of', 'my', 'boyhood', 'under', 'their', 'ponderous', 'shade—will', 'agree', 'that', 'the', 'Scandinavians', 'were', 'men', 'of', 'insight', '.', 'There', 'is', 'in', 'effect', 'something', 'blowsily', 'female', 'about', 'those', 'vast', 'trees', 'that', 'brood', 'with', 'all', 'their', 'bulging', 'masses', 'of', 'foliage', 'above', 'the', 'meadows', 'of', 'the', 'home', 'counties', '.', 'In', 'winter', 'they', 'are', 'giant', 'skeletons', ';', 'and', 'for', 'a', 'moment', 'in', 'the', 'early', 'spring', 'a', 'cloud', 'of', 'transparent', 'emerald', 'vapor', 'floats', 'in', 'the', 'air', ';', 'but', 'by', 'June', 'they', 'have', 'settled', 'down', 'to', 'an', 'enormous', 'middle', 'age', '.', 'The', 'question', 'how', 'knowledge', 'should', 'be', 'defined', 'is', 'perhaps', 'the', 'most', 'important', 'and', 'difficult', 'of', 'the', 'three', 'with', 'which', 'we', 'shall', 'deal', '.', 'This', 'may', 'seem', 'surprising', ':', 'at', 'first', 'sight', 'it', 'might', 'be', 'thought', 'that', 'knowledge', 'might', 'be', 'defined', 'as', 'belief', 'which', 'is', 'in', 'agreement', 'with', 'the', 'facts', '.', 'The', 'trouble', 'is', 'that', 'no', 'one', 'knows', 'what', 'a', 'belief', 'is', ',', 'no', 'one', 'knows', 'what', 'a', 'fact', 'is', ',', 'and', 'no', 'one', 'knows', 'what', 'sort', 'of', 'agreement', 'between', 'them', 'would', 'make', 'a', 'belief', 'true', '.', 'Let', 'us', 'begin', 'with', 'belief', '.', 'The', 'inflated', 'style', 'itself', 'is', 'a', 'kind', 'of', 'euphemism', '.', 'A', 'mass', 'of', 'Latin', 'words', 'falls', 'upon', 'the', 'facts', 'like', 'soft', 'snow', ',', 'blurring', 'the', 'outline', 'and', 'covering', 'up', 'all', 'the', 'details', '.', 'The', 'great', 'enemy', 'of', 'clear', 'language', 'is', 'insincerity', '.', 'When', 'there', 'is', 'a', 'gap', 'between', 'one', '’', 's', 'real', 'and', 'one', '’', 's', 'declared', 'aims', ',', 'one', 'turns', 'as', 'it', 'were', 'instinctively', 'to', 'long', 'words', 'and', 'exhausted', 'idioms', ',', 'like', 'a', 'cuttlefish', 'spurting', 'out', 'ink', '.', 'In', 'our', 'age', 'there', 'is', 'no', 'such', 'thing', 'as', '‘', 'keeping', 'out', 'of', 'politics.', '’', 'All', 'issues', 'are', 'political', 'issues', ',', 'and', 'politics', 'itself', 'is', 'a', 'mass', 'of', 'lies', ',', 'evasions', ',', 'folly', ',', 'hatred', ',', 'and', 'schizophrenia', '.', 'When', 'the', 'general', 'atmosphere', 'is', 'bad', ',', 'language', 'must', 'suffer', '.', 'I', 'should', 'expect', 'to', 'find', '—', 'this', 'is', 'a', 'guess', 'which', 'I', 'have', 'not', 'sufficient', 'knowledge', 'to', 'verify', '—', 'that', 'the', 'German', ',', 'Russian', 'and', 'Italian', 'languages', 'have', 'all', 'deteriorated', 'in', 'the', 'last', 'ten', 'or', 'fifteen', 'years', ',', 'as', 'a', 'result', 'of', 'dictatorship', '.']\n"
     ]
    }
   ],
   "source": [
    "tokenize_word = word_tokenize(text)\n",
    "print(tokenize_word)"
   ]
  },
  {
   "cell_type": "code",
   "execution_count": 19,
   "metadata": {},
   "outputs": [
    {
     "name": "stdout",
     "output_type": "stream",
     "text": [
      "<FreqDist with 45 samples and 2069 outcomes>\n"
     ]
    }
   ],
   "source": [
    "from nltk.probability import FreqDist\n",
    "fdist = FreqDist(text)\n",
    "print(fdist)"
   ]
  },
  {
   "cell_type": "code",
   "execution_count": 23,
   "metadata": {},
   "outputs": [
    {
     "data": {
      "text/plain": [
       "[(' ', 364), ('e', 210), ('t', 146), ('a', 133), ('i', 131)]"
      ]
     },
     "execution_count": 23,
     "metadata": {},
     "output_type": "execute_result"
    }
   ],
   "source": [
    "fdist.most_common(5)"
   ]
  },
  {
   "cell_type": "code",
   "execution_count": 28,
   "metadata": {},
   "outputs": [
    {
     "data": {
      "image/png": "[encoded data removed]",
      "text/plain": [
       "<Figure size 360x360 with 1 Axes>"
      ]
     },
     "metadata": {
      "needs_background": "light"
     },
     "output_type": "display_data"
    }
   ],
   "source": [
    "import matplotlib.pyplot as plt\n",
    "plt.figure(figsize=(5,5))\n",
    "fdist.plot(30,cumulative=False)\n",
    "plt.show()"
   ]
  },
  {
   "cell_type": "code",
   "execution_count": 31,
   "metadata": {},
   "outputs": [
    {
     "data": {
      "text/plain": [
       "{'a',\n",
       " 'about',\n",
       " 'above',\n",
       " 'after',\n",
       " 'again',\n",
       " 'against',\n",
       " 'ain',\n",
       " 'all',\n",
       " 'am',\n",
       " 'an',\n",
       " 'and',\n",
       " 'any',\n",
       " 'are',\n",
       " 'aren',\n",
       " \"aren't\",\n",
       " 'as',\n",
       " 'at',\n",
       " 'be',\n",
       " 'because',\n",
       " 'been',\n",
       " 'before',\n",
       " 'being',\n",
       " 'below',\n",
       " 'between',\n",
       " 'both',\n",
       " 'but',\n",
       " 'by',\n",
       " 'can',\n",
       " 'couldn',\n",
       " \"couldn't\",\n",
       " 'd',\n",
       " 'did',\n",
       " 'didn',\n",
       " \"didn't\",\n",
       " 'do',\n",
       " 'does',\n",
       " 'doesn',\n",
       " \"doesn't\",\n",
       " 'doing',\n",
       " 'don',\n",
       " \"don't\",\n",
       " 'down',\n",
       " 'during',\n",
       " 'each',\n",
       " 'few',\n",
       " 'for',\n",
       " 'from',\n",
       " 'further',\n",
       " 'had',\n",
       " 'hadn',\n",
       " \"hadn't\",\n",
       " 'has',\n",
       " 'hasn',\n",
       " \"hasn't\",\n",
       " 'have',\n",
       " 'haven',\n",
       " \"haven't\",\n",
       " 'having',\n",
       " 'he',\n",
       " 'her',\n",
       " 'here',\n",
       " 'hers',\n",
       " 'herself',\n",
       " 'him',\n",
       " 'himself',\n",
       " 'his',\n",
       " 'how',\n",
       " 'i',\n",
       " 'if',\n",
       " 'in',\n",
       " 'into',\n",
       " 'is',\n",
       " 'isn',\n",
       " \"isn't\",\n",
       " 'it',\n",
       " \"it's\",\n",
       " 'its',\n",
       " 'itself',\n",
       " 'just',\n",
       " 'll',\n",
       " 'm',\n",
       " 'ma',\n",
       " 'me',\n",
       " 'mightn',\n",
       " \"mightn't\",\n",
       " 'more',\n",
       " 'most',\n",
       " 'mustn',\n",
       " \"mustn't\",\n",
       " 'my',\n",
       " 'myself',\n",
       " 'needn',\n",
       " \"needn't\",\n",
       " 'no',\n",
       " 'nor',\n",
       " 'not',\n",
       " 'now',\n",
       " 'o',\n",
       " 'of',\n",
       " 'off',\n",
       " 'on',\n",
       " 'once',\n",
       " 'only',\n",
       " 'or',\n",
       " 'other',\n",
       " 'our',\n",
       " 'ours',\n",
       " 'ourselves',\n",
       " 'out',\n",
       " 'over',\n",
       " 'own',\n",
       " 're',\n",
       " 's',\n",
       " 'same',\n",
       " 'shan',\n",
       " \"shan't\",\n",
       " 'she',\n",
       " \"she's\",\n",
       " 'should',\n",
       " \"should've\",\n",
       " 'shouldn',\n",
       " \"shouldn't\",\n",
       " 'so',\n",
       " 'some',\n",
       " 'such',\n",
       " 't',\n",
       " 'than',\n",
       " 'that',\n",
       " \"that'll\",\n",
       " 'the',\n",
       " 'their',\n",
       " 'theirs',\n",
       " 'them',\n",
       " 'themselves',\n",
       " 'then',\n",
       " 'there',\n",
       " 'these',\n",
       " 'they',\n",
       " 'this',\n",
       " 'those',\n",
       " 'through',\n",
       " 'to',\n",
       " 'too',\n",
       " 'under',\n",
       " 'until',\n",
       " 'up',\n",
       " 've',\n",
       " 'very',\n",
       " 'was',\n",
       " 'wasn',\n",
       " \"wasn't\",\n",
       " 'we',\n",
       " 'were',\n",
       " 'weren',\n",
       " \"weren't\",\n",
       " 'what',\n",
       " 'when',\n",
       " 'where',\n",
       " 'which',\n",
       " 'while',\n",
       " 'who',\n",
       " 'whom',\n",
       " 'why',\n",
       " 'will',\n",
       " 'with',\n",
       " 'won',\n",
       " \"won't\",\n",
       " 'wouldn',\n",
       " \"wouldn't\",\n",
       " 'y',\n",
       " 'you',\n",
       " \"you'd\",\n",
       " \"you'll\",\n",
       " \"you're\",\n",
       " \"you've\",\n",
       " 'your',\n",
       " 'yours',\n",
       " 'yourself',\n",
       " 'yourselves'}"
      ]
     },
     "execution_count": 31,
     "metadata": {},
     "output_type": "execute_result"
    }
   ],
   "source": [
    "from nltk.corpus import stopwords\n",
    "\n",
    "noise_word = set(stopwords.words(\"english\"))\n",
    "noise_word"
   ]
  },
  {
   "cell_type": "code",
   "execution_count": 38,
   "metadata": {},
   "outputs": [
    {
     "name": "stdout",
     "output_type": "stream",
     "text": [
      "Tokenized Sentence: ['With', 'clarity', 'and', 'definition', 'is', 'associated', 'a', 'certain', 'physical', 'spareness', '.', 'Most', 'of', 'the', 'great', 'deciduous', 'trees', 'of', 'England', 'give', 'one', 'the', 'impression', ',', 'at', 'any', 'rate', 'in', 'summer', ',', 'of', 'being', 'rather', 'obese', '.', 'In', 'Scandinavian', 'mythology', 'Embla', ',', 'the', 'elm', ',', 'was', 'the', 'first', 'woman', '.', 'Those', 'who', 'have', 'lived', 'much', 'with', 'old', 'elm', 'trees—and', 'I', 'spent', 'a', 'good', 'part', 'of', 'my', 'boyhood', 'under', 'their', 'ponderous', 'shade—will', 'agree', 'that', 'the', 'Scandinavians', 'were', 'men', 'of', 'insight', '.', 'There', 'is', 'in', 'effect', 'something', 'blowsily', 'female', 'about', 'those', 'vast', 'trees', 'that', 'brood', 'with', 'all', 'their', 'bulging', 'masses', 'of', 'foliage', 'above', 'the', 'meadows', 'of', 'the', 'home', 'counties', '.', 'In', 'winter', 'they', 'are', 'giant', 'skeletons', ';', 'and', 'for', 'a', 'moment', 'in', 'the', 'early', 'spring', 'a', 'cloud', 'of', 'transparent', 'emerald', 'vapor', 'floats', 'in', 'the', 'air', ';', 'but', 'by', 'June', 'they', 'have', 'settled', 'down', 'to', 'an', 'enormous', 'middle', 'age', '.', 'The', 'question', 'how', 'knowledge', 'should', 'be', 'defined', 'is', 'perhaps', 'the', 'most', 'important', 'and', 'difficult', 'of', 'the', 'three', 'with', 'which', 'we', 'shall', 'deal', '.', 'This', 'may', 'seem', 'surprising', ':', 'at', 'first', 'sight', 'it', 'might', 'be', 'thought', 'that', 'knowledge', 'might', 'be', 'defined', 'as', 'belief', 'which', 'is', 'in', 'agreement', 'with', 'the', 'facts', '.', 'The', 'trouble', 'is', 'that', 'no', 'one', 'knows', 'what', 'a', 'belief', 'is', ',', 'no', 'one', 'knows', 'what', 'a', 'fact', 'is', ',', 'and', 'no', 'one', 'knows', 'what', 'sort', 'of', 'agreement', 'between', 'them', 'would', 'make', 'a', 'belief', 'true', '.', 'Let', 'us', 'begin', 'with', 'belief', '.', 'The', 'inflated', 'style', 'itself', 'is', 'a', 'kind', 'of', 'euphemism', '.', 'A', 'mass', 'of', 'Latin', 'words', 'falls', 'upon', 'the', 'facts', 'like', 'soft', 'snow', ',', 'blurring', 'the', 'outline', 'and', 'covering', 'up', 'all', 'the', 'details', '.', 'The', 'great', 'enemy', 'of', 'clear', 'language', 'is', 'insincerity', '.', 'When', 'there', 'is', 'a', 'gap', 'between', 'one', '’', 's', 'real', 'and', 'one', '’', 's', 'declared', 'aims', ',', 'one', 'turns', 'as', 'it', 'were', 'instinctively', 'to', 'long', 'words', 'and', 'exhausted', 'idioms', ',', 'like', 'a', 'cuttlefish', 'spurting', 'out', 'ink', '.', 'In', 'our', 'age', 'there', 'is', 'no', 'such', 'thing', 'as', '‘', 'keeping', 'out', 'of', 'politics.', '’', 'All', 'issues', 'are', 'political', 'issues', ',', 'and', 'politics', 'itself', 'is', 'a', 'mass', 'of', 'lies', ',', 'evasions', ',', 'folly', ',', 'hatred', ',', 'and', 'schizophrenia', '.', 'When', 'the', 'general', 'atmosphere', 'is', 'bad', ',', 'language', 'must', 'suffer', '.', 'I', 'should', 'expect', 'to', 'find', '—', 'this', 'is', 'a', 'guess', 'which', 'I', 'have', 'not', 'sufficient', 'knowledge', 'to', 'verify', '—', 'that', 'the', 'German', ',', 'Russian', 'and', 'Italian', 'languages', 'have', 'all', 'deteriorated', 'in', 'the', 'last', 'ten', 'or', 'fifteen', 'years', ',', 'as', 'a', 'result', 'of', 'dictatorship', '.']\n",
      "Filterd Sentence: {'her', 'him', 'shouldn', 'o', 'will', 'most', 'y', 'can', \"couldn't\", 'how', 'he', \"shan't\", 'should', 'very', 'through', 'only', 'than', 'when', \"you'd\", 's', 'down', 'themselves', \"it's\", 'out', 'now', 'where', 'wouldn', 'any', 'if', 'during', 'between', 'because', 'you', 'had', 'few', 'weren', 'ain', 'before', 'into', 're', 'were', 'myself', 'a', 'under', 'about', \"hasn't\", \"won't\", 'not', 'yourself', 'll', 'in', 'needn', 'been', 'don', \"doesn't\", 'but', 'once', 'so', 'isn', \"she's\", 'whom', 'we', 'then', 'too', 'own', 'just', 've', 'against', \"needn't\", 'why', 'has', 'yours', 'nor', 'that', 'am', 'there', 'after', 'until', 'yourselves', 't', 'having', 'have', 'for', 'above', 'to', 'what', 'is', 'other', \"should've\", 'at', 'an', 'as', 'those', 'theirs', 'their', 'from', 'd', 'with', 'i', 'wasn', \"don't\", \"haven't\", \"wasn't\", 'ourselves', 'which', 'haven', 'she', 'same', \"mustn't\", \"shouldn't\", 'mustn', \"wouldn't\", 'm', 'again', 'more', 'won', 'does', 'herself', 'they', \"isn't\", 'the', 'hasn', 'such', 'each', 'was', 'below', 'couldn', 'are', 'our', 'aren', 'these', 'no', 'doesn', \"didn't\", 'further', 'here', 'mightn', 'be', 'itself', 'your', 'being', 'himself', 'all', 'both', \"aren't\", 'ma', \"hadn't\", 'on', 'its', 'up', 'some', 'hers', 'of', 'didn', 'hadn', 'off', 'my', 'it', 'do', 'while', 'them', 'doing', \"you've\", 'and', 'ours', \"weren't\", 'by', \"you're\", 'his', \"you'll\", 'this', 'or', 'over', 'who', 'shan', 'me', \"mightn't\", \"that'll\", 'did'}\n"
     ]
    }
   ],
   "source": [
    "filtered_sent=[]\n",
    "for w in tokenize_word:\n",
    "    if w not in noise_word:\n",
    "        filtered_sent.append(w)\n",
    "print(\"Tokenized Sentence:\",tokenize_word)\n",
    "print(\"Filterd Sentence:\",noise_word)"
   ]
  },
  {
   "cell_type": "code",
   "execution_count": 41,
   "metadata": {},
   "outputs": [
    {
     "name": "stdout",
     "output_type": "stream",
     "text": [
      "[('With', 'IN'), ('clarity', 'NN'), ('and', 'CC'), ('definition', 'NN'), ('is', 'VBZ'), ('associated', 'VBN'), ('a', 'DT'), ('certain', 'JJ'), ('physical', 'JJ'), ('spareness', 'NN'), ('.', '.'), ('Most', 'JJS'), ('of', 'IN'), ('the', 'DT'), ('great', 'JJ'), ('deciduous', 'JJ'), ('trees', 'NNS'), ('of', 'IN'), ('England', 'NNP'), ('give', 'VB'), ('one', 'CD'), ('the', 'DT'), ('impression', 'NN'), (',', ','), ('at', 'IN'), ('any', 'DT'), ('rate', 'NN'), ('in', 'IN'), ('summer', 'NN'), (',', ','), ('of', 'IN'), ('being', 'VBG'), ('rather', 'RB'), ('obese', 'JJ'), ('.', '.'), ('In', 'IN'), ('Scandinavian', 'JJ'), ('mythology', 'NN'), ('Embla', 'NNP'), (',', ','), ('the', 'DT'), ('elm', 'NN'), (',', ','), ('was', 'VBD'), ('the', 'DT'), ('first', 'JJ'), ('woman', 'NN'), ('.', '.'), ('Those', 'DT'), ('who', 'WP'), ('have', 'VBP'), ('lived', 'VBN'), ('much', 'JJ'), ('with', 'IN'), ('old', 'JJ'), ('elm', 'NN'), ('trees—and', 'NN'), ('I', 'PRP'), ('spent', 'VBD'), ('a', 'DT'), ('good', 'JJ'), ('part', 'NN'), ('of', 'IN'), ('my', 'PRP$'), ('boyhood', 'NN'), ('under', 'IN'), ('their', 'PRP$'), ('ponderous', 'JJ'), ('shade—will', 'NN'), ('agree', 'VB'), ('that', 'IN'), ('the', 'DT'), ('Scandinavians', 'NNPS'), ('were', 'VBD'), ('men', 'NNS'), ('of', 'IN'), ('insight', 'NN'), ('.', '.'), ('There', 'EX'), ('is', 'VBZ'), ('in', 'IN'), ('effect', 'NN'), ('something', 'NN'), ('blowsily', 'RB'), ('female', 'JJ'), ('about', 'IN'), ('those', 'DT'), ('vast', 'JJ'), ('trees', 'NNS'), ('that', 'IN'), ('brood', 'NN'), ('with', 'IN'), ('all', 'DT'), ('their', 'PRP$'), ('bulging', 'NN'), ('masses', 'NNS'), ('of', 'IN'), ('foliage', 'NN'), ('above', 'IN'), ('the', 'DT'), ('meadows', 'NNS'), ('of', 'IN'), ('the', 'DT'), ('home', 'NN'), ('counties', 'NNS'), ('.', '.'), ('In', 'IN'), ('winter', 'NN'), ('they', 'PRP'), ('are', 'VBP'), ('giant', 'JJ'), ('skeletons', 'NNS'), (';', ':'), ('and', 'CC'), ('for', 'IN'), ('a', 'DT'), ('moment', 'NN'), ('in', 'IN'), ('the', 'DT'), ('early', 'JJ'), ('spring', 'NN'), ('a', 'DT'), ('cloud', 'NN'), ('of', 'IN'), ('transparent', 'NN'), ('emerald', 'NN'), ('vapor', 'NN'), ('floats', 'NNS'), ('in', 'IN'), ('the', 'DT'), ('air', 'NN'), (';', ':'), ('but', 'CC'), ('by', 'IN'), ('June', 'NNP'), ('they', 'PRP'), ('have', 'VBP'), ('settled', 'VBN'), ('down', 'RP'), ('to', 'TO'), ('an', 'DT'), ('enormous', 'JJ'), ('middle', 'NN'), ('age', 'NN'), ('.', '.'), ('The', 'DT'), ('question', 'NN'), ('how', 'WRB'), ('knowledge', 'NN'), ('should', 'MD'), ('be', 'VB'), ('defined', 'VBN'), ('is', 'VBZ'), ('perhaps', 'RB'), ('the', 'DT'), ('most', 'RBS'), ('important', 'JJ'), ('and', 'CC'), ('difficult', 'JJ'), ('of', 'IN'), ('the', 'DT'), ('three', 'CD'), ('with', 'IN'), ('which', 'WDT'), ('we', 'PRP'), ('shall', 'MD'), ('deal', 'VB'), ('.', '.'), ('This', 'DT'), ('may', 'MD'), ('seem', 'VB'), ('surprising', 'JJ'), (':', ':'), ('at', 'IN'), ('first', 'JJ'), ('sight', 'VBD'), ('it', 'PRP'), ('might', 'MD'), ('be', 'VB'), ('thought', 'VBN'), ('that', 'IN'), ('knowledge', 'NN'), ('might', 'MD'), ('be', 'VB'), ('defined', 'VBN'), ('as', 'IN'), ('belief', 'NN'), ('which', 'WDT'), ('is', 'VBZ'), ('in', 'IN'), ('agreement', 'NN'), ('with', 'IN'), ('the', 'DT'), ('facts', 'NNS'), ('.', '.'), ('The', 'DT'), ('trouble', 'NN'), ('is', 'VBZ'), ('that', 'IN'), ('no', 'DT'), ('one', 'NN'), ('knows', 'VBZ'), ('what', 'WP'), ('a', 'DT'), ('belief', 'NN'), ('is', 'VBZ'), (',', ','), ('no', 'DT'), ('one', 'NN'), ('knows', 'VBZ'), ('what', 'WP'), ('a', 'DT'), ('fact', 'NN'), ('is', 'VBZ'), (',', ','), ('and', 'CC'), ('no', 'DT'), ('one', 'NN'), ('knows', 'VBZ'), ('what', 'WP'), ('sort', 'NN'), ('of', 'IN'), ('agreement', 'NN'), ('between', 'IN'), ('them', 'PRP'), ('would', 'MD'), ('make', 'VB'), ('a', 'DT'), ('belief', 'NN'), ('true', 'JJ'), ('.', '.'), ('Let', 'VB'), ('us', 'PRP'), ('begin', 'VB'), ('with', 'IN'), ('belief', 'NN'), ('.', '.'), ('The', 'DT'), ('inflated', 'JJ'), ('style', 'NN'), ('itself', 'PRP'), ('is', 'VBZ'), ('a', 'DT'), ('kind', 'NN'), ('of', 'IN'), ('euphemism', 'NN'), ('.', '.'), ('A', 'DT'), ('mass', 'NN'), ('of', 'IN'), ('Latin', 'NNP'), ('words', 'NNS'), ('falls', 'VBZ'), ('upon', 'IN'), ('the', 'DT'), ('facts', 'NNS'), ('like', 'IN'), ('soft', 'JJ'), ('snow', 'NNS'), (',', ','), ('blurring', 'VBG'), ('the', 'DT'), ('outline', 'NN'), ('and', 'CC'), ('covering', 'VBG'), ('up', 'RP'), ('all', 'PDT'), ('the', 'DT'), ('details', 'NNS'), ('.', '.'), ('The', 'DT'), ('great', 'JJ'), ('enemy', 'NN'), ('of', 'IN'), ('clear', 'JJ'), ('language', 'NN'), ('is', 'VBZ'), ('insincerity', 'NN'), ('.', '.'), ('When', 'WRB'), ('there', 'EX'), ('is', 'VBZ'), ('a', 'DT'), ('gap', 'NN'), ('between', 'IN'), ('one', 'CD'), ('’', 'NNP'), ('s', 'NN'), ('real', 'JJ'), ('and', 'CC'), ('one', 'CD'), ('’', 'NN'), ('s', 'NN'), ('declared', 'VBD'), ('aims', 'NNS'), (',', ','), ('one', 'CD'), ('turns', 'VBZ'), ('as', 'IN'), ('it', 'PRP'), ('were', 'VBD'), ('instinctively', 'RB'), ('to', 'TO'), ('long', 'VB'), ('words', 'NNS'), ('and', 'CC'), ('exhausted', 'VBD'), ('idioms', 'NNS'), (',', ','), ('like', 'IN'), ('a', 'DT'), ('cuttlefish', 'JJ'), ('spurting', 'VBG'), ('out', 'RP'), ('ink', 'NN'), ('.', '.'), ('In', 'IN'), ('our', 'PRP$'), ('age', 'NN'), ('there', 'EX'), ('is', 'VBZ'), ('no', 'DT'), ('such', 'JJ'), ('thing', 'NN'), ('as', 'IN'), ('‘', 'NN'), ('keeping', 'VBG'), ('out', 'IN'), ('of', 'IN'), ('politics.', 'NN'), ('’', 'NNP'), ('All', 'NNP'), ('issues', 'NNS'), ('are', 'VBP'), ('political', 'JJ'), ('issues', 'NNS'), (',', ','), ('and', 'CC'), ('politics', 'NNS'), ('itself', 'PRP'), ('is', 'VBZ'), ('a', 'DT'), ('mass', 'NN'), ('of', 'IN'), ('lies', 'NNS'), (',', ','), ('evasions', 'NNS'), (',', ','), ('folly', 'RB'), (',', ','), ('hatred', 'VBD'), (',', ','), ('and', 'CC'), ('schizophrenia', 'NN'), ('.', '.'), ('When', 'WRB'), ('the', 'DT'), ('general', 'JJ'), ('atmosphere', 'NN'), ('is', 'VBZ'), ('bad', 'JJ'), (',', ','), ('language', 'NN'), ('must', 'MD'), ('suffer', 'VB'), ('.', '.'), ('I', 'PRP'), ('should', 'MD'), ('expect', 'VB'), ('to', 'TO'), ('find', 'VB'), ('—', 'NN'), ('this', 'DT'), ('is', 'VBZ'), ('a', 'DT'), ('guess', 'NN'), ('which', 'WDT'), ('I', 'PRP'), ('have', 'VBP'), ('not', 'RB'), ('sufficient', 'JJ'), ('knowledge', 'NN'), ('to', 'TO'), ('verify', 'VB'), ('—', 'NN'), ('that', 'IN'), ('the', 'DT'), ('German', 'JJ'), (',', ','), ('Russian', 'JJ'), ('and', 'CC'), ('Italian', 'JJ'), ('languages', 'NNS'), ('have', 'VBP'), ('all', 'DT'), ('deteriorated', 'VBN'), ('in', 'IN'), ('the', 'DT'), ('last', 'JJ'), ('ten', 'NN'), ('or', 'CC'), ('fifteen', 'JJ'), ('years', 'NNS'), (',', ','), ('as', 'IN'), ('a', 'DT'), ('result', 'NN'), ('of', 'IN'), ('dictatorship', 'NN'), ('.', '.')]\n"
     ]
    }
   ],
   "source": [
    "post_words = nltk.pos_tag(tokenize_word)\n",
    "print(post_words)"
   ]
  },
  {
   "cell_type": "code",
   "execution_count": 65,
   "metadata": {},
   "outputs": [],
   "source": [
    "nouns = []\n",
    "pronoun = []\n",
    "verb = []\n",
    "adjective = []\n",
    "adverb = []\n",
    "preposition = []\n",
    "conjunction = []\n",
    "interjection = []\n",
    "for i in post_words:\n",
    "    if(i[1]==\"NN\"):\n",
    "            nouns.append(i[0])\n",
    "    if(i[1]=='PRP'):\n",
    "            pronoun.append(i[0])\n",
    "    if(i[1]==\"VB\"):\n",
    "            verb.append(i[0])\n",
    "    if(i[1]==\"JJ\"):\n",
    "            adjective.append(i[0])\n",
    "    if(i[1]==\"RB\"):\n",
    "            adverb.append(i[0])\n",
    "    if(i[1]==\"IN\"):\n",
    "            preposition.append(i[0])\n",
    "    if(i[1]==\"CC\"):\n",
    "            conjunction.append(i[0])\n",
    "    if(i[1]==\"UH\"):\n",
    "            interjection.append(i[0])"
   ]
  },
  {
   "cell_type": "code",
   "execution_count": 69,
   "metadata": {},
   "outputs": [
    {
     "data": {
      "text/plain": [
       "(['clarity',\n",
       "  'definition',\n",
       "  'spareness',\n",
       "  'impression',\n",
       "  'rate',\n",
       "  'summer',\n",
       "  'mythology',\n",
       "  'elm',\n",
       "  'woman',\n",
       "  'elm',\n",
       "  'trees—and',\n",
       "  'part',\n",
       "  'boyhood',\n",
       "  'shade—will',\n",
       "  'insight',\n",
       "  'effect',\n",
       "  'something',\n",
       "  'brood',\n",
       "  'bulging',\n",
       "  'foliage',\n",
       "  'home',\n",
       "  'winter',\n",
       "  'moment',\n",
       "  'spring',\n",
       "  'cloud',\n",
       "  'transparent',\n",
       "  'emerald',\n",
       "  'vapor',\n",
       "  'air',\n",
       "  'middle',\n",
       "  'age',\n",
       "  'question',\n",
       "  'knowledge',\n",
       "  'knowledge',\n",
       "  'belief',\n",
       "  'agreement',\n",
       "  'trouble',\n",
       "  'one',\n",
       "  'belief',\n",
       "  'one',\n",
       "  'fact',\n",
       "  'one',\n",
       "  'sort',\n",
       "  'agreement',\n",
       "  'belief',\n",
       "  'belief',\n",
       "  'style',\n",
       "  'kind',\n",
       "  'euphemism',\n",
       "  'mass',\n",
       "  'outline',\n",
       "  'enemy',\n",
       "  'language',\n",
       "  'insincerity',\n",
       "  'gap',\n",
       "  's',\n",
       "  '’',\n",
       "  's',\n",
       "  'ink',\n",
       "  'age',\n",
       "  'thing',\n",
       "  '‘',\n",
       "  'politics.',\n",
       "  'mass',\n",
       "  'schizophrenia',\n",
       "  'atmosphere',\n",
       "  'language',\n",
       "  '—',\n",
       "  'guess',\n",
       "  'knowledge',\n",
       "  '—',\n",
       "  'ten',\n",
       "  'result',\n",
       "  'dictatorship'],\n",
       " ['I',\n",
       "  'they',\n",
       "  'they',\n",
       "  'we',\n",
       "  'it',\n",
       "  'them',\n",
       "  'us',\n",
       "  'itself',\n",
       "  'it',\n",
       "  'itself',\n",
       "  'I',\n",
       "  'I'],\n",
       " ['give',\n",
       "  'agree',\n",
       "  'be',\n",
       "  'deal',\n",
       "  'seem',\n",
       "  'be',\n",
       "  'be',\n",
       "  'make',\n",
       "  'Let',\n",
       "  'begin',\n",
       "  'long',\n",
       "  'suffer',\n",
       "  'expect',\n",
       "  'find',\n",
       "  'verify'])"
      ]
     },
     "execution_count": 69,
     "metadata": {},
     "output_type": "execute_result"
    }
   ],
   "source": [
    "nouns,pronoun,verb"
   ]
  },
  {
   "cell_type": "code",
   "execution_count": 70,
   "metadata": {},
   "outputs": [
    {
     "data": {
      "text/plain": [
       "(['certain',\n",
       "  'physical',\n",
       "  'great',\n",
       "  'deciduous',\n",
       "  'obese',\n",
       "  'Scandinavian',\n",
       "  'first',\n",
       "  'much',\n",
       "  'old',\n",
       "  'good',\n",
       "  'ponderous',\n",
       "  'female',\n",
       "  'vast',\n",
       "  'giant',\n",
       "  'early',\n",
       "  'enormous',\n",
       "  'important',\n",
       "  'difficult',\n",
       "  'surprising',\n",
       "  'first',\n",
       "  'true',\n",
       "  'inflated',\n",
       "  'soft',\n",
       "  'great',\n",
       "  'clear',\n",
       "  'real',\n",
       "  'cuttlefish',\n",
       "  'such',\n",
       "  'political',\n",
       "  'general',\n",
       "  'bad',\n",
       "  'sufficient',\n",
       "  'German',\n",
       "  'Russian',\n",
       "  'Italian',\n",
       "  'last',\n",
       "  'fifteen'],\n",
       " ['rather', 'blowsily', 'perhaps', 'instinctively', 'folly', 'not'])"
      ]
     },
     "execution_count": 70,
     "metadata": {},
     "output_type": "execute_result"
    }
   ],
   "source": [
    "adjective,adverb"
   ]
  },
  {
   "cell_type": "code",
   "execution_count": null,
   "metadata": {},
   "outputs": [],
   "source": []
  }
 ],
 "metadata": {
  "kernelspec": {
   "display_name": "Python 3",
   "language": "python",
   "name": "python3"
  },
  "language_info": {
   "codemirror_mode": {
    "name": "ipython",
    "version": 3
   },
   "file_extension": ".py",
   "mimetype": "text/x-python",
   "name": "python",
   "nbconvert_exporter": "python",
   "pygments_lexer": "ipython3",
   "version": "3.7.4"
  }
 },
 "nbformat": 4,
 "nbformat_minor": 2
}
